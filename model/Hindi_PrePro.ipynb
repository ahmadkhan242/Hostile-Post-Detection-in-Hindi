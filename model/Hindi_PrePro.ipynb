{
 "cells": [
  {
   "cell_type": "code",
   "execution_count": 8,
   "metadata": {},
   "outputs": [],
   "source": [
    "import pandas as pd\n",
    "import numpy as np"
   ]
  },
  {
   "cell_type": "code",
   "execution_count": null,
   "metadata": {},
   "outputs": [],
   "source": [
    "STOPWORDS = [\"अंदर\",\"अत\",\"अदि\",\"अप\",\"अपना\",\"अपनि\",\"अपनी\",\"अपने\",\"अभि\",\"अभी\",\"आदि\",\"आप\",\"इंहिं\",\"इंहें\",\"इंहों\",\"इतयादि\",\"इत्यादि\",\"इन\",\"इनका\",\"इन्हीं\",\"इन्हें\",\"इन्हों\",\"इस\",\"इसका\",\"इसकि\",\"इसकी\",\n",
    "             \"इसके\",\"इसमें\",\"इसि\",\"इसी\",\"इसे\",\"उंहिं\",\"उंहें\",\"उंहों\",\"उन\",\"उनका\",\"उनकि\",\"उनकी\",\"उनके\",\"उनको\",\"उन्हीं\",\"उन्हें\",\"उन्हों\",\"उस\",\"उसके\",\"उसि\",\"उसी\",\"उसे\",\"एक\",\"एवं\",\"एस\",\"एसे\",\"ऐसे\",\"ओर\",\n",
    "             \"और\",\"कइ\",\"कई\",\"कर\",\"करता\",\"करते\",\"करना\",\"करने\",\"करें\",\"कहते\",\"कहा\",\"का\",\"काफि\",\"काफ़ी\",\"कि\",\"किंहें\",\"किंहों\",\"कितना\",\"किन्हें\",\"किन्हों\",\"किया\",\"किर\",\"किस\",\"किसि\",\"किसी\",\"किसे\",\"की\",\n",
    "             \"कुछ\",\"कुल\",\"के\",\"को\",\"कोइ\",\"कोई\",\"कोन\",\"कोनसा\",\"कौन\",\"कौनसा\",\"गया\",\"घर\",\"जब\",\"जहाँ\",\"जहां\",\"जा\",\"जिंहें\",\"जिंहों\",\"जितना\",\"जिधर\",\"जिन\",\"जिन्हें\",\"जिन्हों\",\"जिस\",\"जिसे\",\"जीधर\",\"जेसा\",\"जेसे\",\n",
    "             \"जैसा\",\"जैसे\",\"जो\",\"तक\",\"तब\",\"तरह\",\"तिंहें\",\"तिंहों\",\"तिन\",\"तिन्हें\",\"तिन्हों\",\"तिस\",\"तिसे\",\"तो\",\"था\",\"थि\",\"थी\",\"थे\",\"दबारा\",\"दवारा\",\"दिया\",\"दुसरा\",\"दुसरे\",\"दूसरे\",\"दो\",\"द्वारा\",\"न\",\"नहिं\",\"नहीं\",\"ना\",\"निचे\",\n",
    "             \"निहायत\",\"नीचे\",\"ने\",\"पर\",\"पहले\",\"पुरा\",\"पूरा\",\"पे\",\"फिर\",\"बनि\",\"बनी\",\"बहि\",\"बही\",\"बहुत\",\"बाद\",\"बाला\",\"बिलकुल\",\"भि\",\"भितर\",\"भी\",\"भीतर\",\"मगर\",\"मानो\",\"मे\",\"में\",\"यदि\",\"यह\",\"यहाँ\",\"यहां\",\"यहि\",\n",
    "             \"यही\",\"या\",\"यिह\",\"ये\",\"रखें\",\"रवासा\",\"रहा\",\"रहे\",\"ऱ्वासा\",\"लिए\",\"लिये\",\"लेकिन\",\"व\",\"वगेरह\",\"वरग\",\"वर्ग\",\"वह\",\"वहाँ\",\"वहां\",\"वहिं\",\"वहीं\",\"वाले\",\"वुह\",\"वे\",\"वग़ैरह\",\"संग\",\"सकता\",\"सकते\",\"सबसे\",\"सभि\",\n",
    "             \"सभी\",\"साथ\",\"साबुत\",\"साभ\",\"सारा\",\"से\",\"सो\",\"हि\",\"ही\",\"हुअ\",\"हुआ\",\"हुइ\",\"हुई\",\"हुए\",\"हे\",\"हें\",\"है\",\"हैं\",\"हो\",\"होता\",\"होति\",\"होती\",\"होते\",\"होना\",\"होने\"]\n",
    "sns.set(style=\"darkgrid\")"
   ]
  },
  {
   "cell_type": "code",
   "execution_count": 18,
   "metadata": {},
   "outputs": [],
   "source": [
    "df = pd.read_csv(\"../../dataset/Hindi/train.csv\")\n",
    "val = pd.read_csv(\"../../dataset/Hindi/validation.csv\")"
   ]
  },
  {
   "cell_type": "code",
   "execution_count": 3,
   "metadata": {},
   "outputs": [
    {
     "data": {
      "text/html": [
       "<div>\n",
       "<style scoped>\n",
       "    .dataframe tbody tr th:only-of-type {\n",
       "        vertical-align: middle;\n",
       "    }\n",
       "\n",
       "    .dataframe tbody tr th {\n",
       "        vertical-align: top;\n",
       "    }\n",
       "\n",
       "    .dataframe thead th {\n",
       "        text-align: right;\n",
       "    }\n",
       "</style>\n",
       "<table border=\"1\" class=\"dataframe\">\n",
       "  <thead>\n",
       "    <tr style=\"text-align: right;\">\n",
       "      <th></th>\n",
       "      <th>Unique ID</th>\n",
       "      <th>Post</th>\n",
       "      <th>Labels Set</th>\n",
       "    </tr>\n",
       "  </thead>\n",
       "  <tbody>\n",
       "    <tr>\n",
       "      <th>0</th>\n",
       "      <td>1</td>\n",
       "      <td>मेरे देश के हिन्दु बहुत निराले है। कुछ तो पक्क...</td>\n",
       "      <td>hate,offensive</td>\n",
       "    </tr>\n",
       "    <tr>\n",
       "      <th>1</th>\n",
       "      <td>2</td>\n",
       "      <td>सरकार हमेशा से किसानों की कमाई को बढ़ाने के लि...</td>\n",
       "      <td>non-hostile</td>\n",
       "    </tr>\n",
       "    <tr>\n",
       "      <th>2</th>\n",
       "      <td>3</td>\n",
       "      <td>सुशांत ने जो बिजनेस डील 9 जून को की थी, वो डील...</td>\n",
       "      <td>non-hostile</td>\n",
       "    </tr>\n",
       "    <tr>\n",
       "      <th>3</th>\n",
       "      <td>4</td>\n",
       "      <td>@prabhav218 साले जेएनयू छाप कमिने लोग हिन्दुओं...</td>\n",
       "      <td>defamation,offensive</td>\n",
       "    </tr>\n",
       "    <tr>\n",
       "      <th>4</th>\n",
       "      <td>5</td>\n",
       "      <td>#unlock4guidelines - अनलॉक-4 के लिए गाइडलाइन्स...</td>\n",
       "      <td>non-hostile</td>\n",
       "    </tr>\n",
       "    <tr>\n",
       "      <th>5</th>\n",
       "      <td>6</td>\n",
       "      <td>चीन ने UN में तर्क दिया की भारत का विपक्ष ही अ...</td>\n",
       "      <td>fake</td>\n",
       "    </tr>\n",
       "    <tr>\n",
       "      <th>6</th>\n",
       "      <td>7</td>\n",
       "      <td>देश में #Corona के रिकॉर्ड मामले  \\n#ZeeJankar...</td>\n",
       "      <td>non-hostile</td>\n",
       "    </tr>\n",
       "    <tr>\n",
       "      <th>7</th>\n",
       "      <td>8</td>\n",
       "      <td>#JEE Exam center से निकले #Students को सुन बाक...</td>\n",
       "      <td>non-hostile</td>\n",
       "    </tr>\n",
       "    <tr>\n",
       "      <th>8</th>\n",
       "      <td>9</td>\n",
       "      <td>#AkshayKumar जल्द ही बेयर ग्रिल्स के शो 'इंटू ...</td>\n",
       "      <td>non-hostile</td>\n",
       "    </tr>\n",
       "    <tr>\n",
       "      <th>9</th>\n",
       "      <td>10</td>\n",
       "      <td>#जीवनसंवाद: हम संघर्ष करना चाहते हैं, क्योंकि ...</td>\n",
       "      <td>non-hostile</td>\n",
       "    </tr>\n",
       "  </tbody>\n",
       "</table>\n",
       "</div>"
      ],
      "text/plain": [
       "   Unique ID                                               Post  \\\n",
       "0          1  मेरे देश के हिन्दु बहुत निराले है। कुछ तो पक्क...   \n",
       "1          2  सरकार हमेशा से किसानों की कमाई को बढ़ाने के लि...   \n",
       "2          3  सुशांत ने जो बिजनेस डील 9 जून को की थी, वो डील...   \n",
       "3          4  @prabhav218 साले जेएनयू छाप कमिने लोग हिन्दुओं...   \n",
       "4          5  #unlock4guidelines - अनलॉक-4 के लिए गाइडलाइन्स...   \n",
       "5          6  चीन ने UN में तर्क दिया की भारत का विपक्ष ही अ...   \n",
       "6          7  देश में #Corona के रिकॉर्ड मामले  \\n#ZeeJankar...   \n",
       "7          8  #JEE Exam center से निकले #Students को सुन बाक...   \n",
       "8          9  #AkshayKumar जल्द ही बेयर ग्रिल्स के शो 'इंटू ...   \n",
       "9         10  #जीवनसंवाद: हम संघर्ष करना चाहते हैं, क्योंकि ...   \n",
       "\n",
       "             Labels Set  \n",
       "0        hate,offensive  \n",
       "1           non-hostile  \n",
       "2           non-hostile  \n",
       "3  defamation,offensive  \n",
       "4           non-hostile  \n",
       "5                  fake  \n",
       "6           non-hostile  \n",
       "7           non-hostile  \n",
       "8           non-hostile  \n",
       "9           non-hostile  "
      ]
     },
     "execution_count": 3,
     "metadata": {},
     "output_type": "execute_result"
    }
   ],
   "source": [
    "df.head(10)"
   ]
  },
  {
   "cell_type": "code",
   "execution_count": 4,
   "metadata": {},
   "outputs": [
    {
     "name": "stdout",
     "output_type": "stream",
     "text": [
      "<class 'pandas.core.frame.DataFrame'>\n",
      "RangeIndex: 5728 entries, 0 to 5727\n",
      "Data columns (total 3 columns):\n",
      " #   Column      Non-Null Count  Dtype \n",
      "---  ------      --------------  ----- \n",
      " 0   Unique ID   5728 non-null   int64 \n",
      " 1   Post        5728 non-null   object\n",
      " 2   Labels Set  5728 non-null   object\n",
      "dtypes: int64(1), object(2)\n",
      "memory usage: 134.4+ KB\n"
     ]
    }
   ],
   "source": [
    "df.info()"
   ]
  },
  {
   "cell_type": "code",
   "execution_count": 5,
   "metadata": {},
   "outputs": [],
   "source": [
    "l = []\n",
    "for i in df[\"Labels Set\"]:\n",
    "    a = i.split(\",\")\n",
    "    for k in a:\n",
    "        l.append(k)\n",
    "        \n",
    "v = []\n",
    "for i in val[\"Labels Set\"]:\n",
    "    a = i.split(\",\")\n",
    "    for k in a:\n",
    "        v.append(k)"
   ]
  },
  {
   "cell_type": "code",
   "execution_count": 6,
   "metadata": {},
   "outputs": [
    {
     "name": "stdout",
     "output_type": "stream",
     "text": [
      "====================\n",
      "Train Dataset\n",
      "====================\n",
      "hate 792\n",
      "offensive 742\n",
      "non-hostile 3050\n",
      "defamation 564\n",
      "fake 1144\n",
      "====================\n",
      "Validation Dataset\n",
      "====================\n",
      "hate 110\n",
      "offensive 103\n",
      "non-hostile 435\n",
      "defamation 77\n",
      "fake 160\n"
     ]
    }
   ],
   "source": [
    "print(\"====================\")\n",
    "print(\"Train Dataset\")\n",
    "print(\"====================\")\n",
    "print(\"hate\", l.count(\"hate\"))\n",
    "print(\"offensive\", l.count(\"offensive\"))\n",
    "print(\"non-hostile\", l.count(\"non-hostile\"))\n",
    "print(\"defamation\", l.count(\"defamation\"))\n",
    "print(\"fake\", l.count(\"fake\"))\n",
    "print(\"====================\")\n",
    "print(\"Validation Dataset\")\n",
    "print(\"====================\")\n",
    "print(\"hate\", v.count(\"hate\"))\n",
    "print(\"offensive\", v.count(\"offensive\"))\n",
    "print(\"non-hostile\", v.count(\"non-hostile\"))\n",
    "print(\"defamation\", v.count(\"defamation\"))\n",
    "print(\"fake\", v.count(\"fake\"))"
   ]
  },
  {
   "cell_type": "code",
   "execution_count": null,
   "metadata": {},
   "outputs": [],
   "source": []
  },
  {
   "cell_type": "code",
   "execution_count": 7,
   "metadata": {},
   "outputs": [],
   "source": [
    "df_dict = {\n",
    "    \"id\": df[\"Unique ID\"],\n",
    "    \"post\": df[\"Post\"],\n",
    "    \"hate\":np.zeros(5728),\n",
    "    \"offensive\":np.zeros(5728),\n",
    "    \"non-hostile\":np.zeros(5728),\n",
    "    \"defamation\":np.zeros(5728),\n",
    "    \"fake\":np.zeros(5728)\n",
    "}\n",
    "val_dict = {\n",
    "    \"id\": df[\"Unique ID\"],\n",
    "    \"post\": df[\"Post\"],\n",
    "    \"hate\":np.zeros(5728),\n",
    "    \"offensive\":np.zeros(5728),\n",
    "    \"non-hostile\":np.zeros(5728),\n",
    "    \"defamation\":np.zeros(5728),\n",
    "    \"fake\":np.zeros(5728)\n",
    "}"
   ]
  },
  {
   "cell_type": "code",
   "execution_count": 8,
   "metadata": {},
   "outputs": [],
   "source": [
    "df_new = pd.DataFrame(df_dict)\n",
    "val_new = pd.DataFrame(val_dict)"
   ]
  },
  {
   "cell_type": "code",
   "execution_count": null,
   "metadata": {},
   "outputs": [],
   "source": []
  },
  {
   "cell_type": "code",
   "execution_count": 9,
   "metadata": {},
   "outputs": [
    {
     "name": "stdout",
     "output_type": "stream",
     "text": [
      "hate,offensive\n"
     ]
    }
   ],
   "source": [
    "print(df[\"Labels Set\"][0])"
   ]
  },
  {
   "cell_type": "code",
   "execution_count": 10,
   "metadata": {},
   "outputs": [
    {
     "name": "stderr",
     "output_type": "stream",
     "text": [
      "F:\\Installed Software\\Anaconda3\\envs\\tf_gpu\\lib\\site-packages\\ipykernel_launcher.py:4: SettingWithCopyWarning: \n",
      "A value is trying to be set on a copy of a slice from a DataFrame\n",
      "\n",
      "See the caveats in the documentation: https://pandas.pydata.org/pandas-docs/stable/user_guide/indexing.html#returning-a-view-versus-a-copy\n",
      "  after removing the cwd from sys.path.\n",
      "F:\\Installed Software\\Anaconda3\\envs\\tf_gpu\\lib\\site-packages\\ipykernel_launcher.py:9: SettingWithCopyWarning: \n",
      "A value is trying to be set on a copy of a slice from a DataFrame\n",
      "\n",
      "See the caveats in the documentation: https://pandas.pydata.org/pandas-docs/stable/user_guide/indexing.html#returning-a-view-versus-a-copy\n",
      "  if __name__ == '__main__':\n"
     ]
    }
   ],
   "source": [
    "for i in range(0,len(df[\"Labels Set\"])):\n",
    "    a = df[\"Labels Set\"][i].split(\",\")\n",
    "    for k in a:\n",
    "        df_new[k][i] = 1\n",
    "        \n",
    "for i in range(0,len(val[\"Labels Set\"])):\n",
    "    a = val[\"Labels Set\"][i].split(\",\")\n",
    "    for k in a:\n",
    "        val_new[k][i] = 1"
   ]
  },
  {
   "cell_type": "code",
   "execution_count": 50,
   "metadata": {},
   "outputs": [
    {
     "data": {
      "text/html": [
       "<div>\n",
       "<style scoped>\n",
       "    .dataframe tbody tr th:only-of-type {\n",
       "        vertical-align: middle;\n",
       "    }\n",
       "\n",
       "    .dataframe tbody tr th {\n",
       "        vertical-align: top;\n",
       "    }\n",
       "\n",
       "    .dataframe thead th {\n",
       "        text-align: right;\n",
       "    }\n",
       "</style>\n",
       "<table border=\"1\" class=\"dataframe\">\n",
       "  <thead>\n",
       "    <tr style=\"text-align: right;\">\n",
       "      <th></th>\n",
       "      <th>id</th>\n",
       "      <th>post</th>\n",
       "      <th>hate</th>\n",
       "      <th>offensive</th>\n",
       "      <th>non-hostile</th>\n",
       "      <th>defamation</th>\n",
       "      <th>fake</th>\n",
       "    </tr>\n",
       "  </thead>\n",
       "  <tbody>\n",
       "    <tr>\n",
       "      <th>0</th>\n",
       "      <td>1</td>\n",
       "      <td>मेरे देश के हिन्दु बहुत निराले है। कुछ तो पक्क...</td>\n",
       "      <td>1.0</td>\n",
       "      <td>1.0</td>\n",
       "      <td>0.0</td>\n",
       "      <td>0.0</td>\n",
       "      <td>0.0</td>\n",
       "    </tr>\n",
       "    <tr>\n",
       "      <th>1</th>\n",
       "      <td>2</td>\n",
       "      <td>सरकार हमेशा से किसानों की कमाई को बढ़ाने के लि...</td>\n",
       "      <td>0.0</td>\n",
       "      <td>0.0</td>\n",
       "      <td>1.0</td>\n",
       "      <td>0.0</td>\n",
       "      <td>0.0</td>\n",
       "    </tr>\n",
       "    <tr>\n",
       "      <th>2</th>\n",
       "      <td>3</td>\n",
       "      <td>सुशांत ने जो बिजनेस डील 9 जून को की थी, वो डील...</td>\n",
       "      <td>0.0</td>\n",
       "      <td>0.0</td>\n",
       "      <td>1.0</td>\n",
       "      <td>0.0</td>\n",
       "      <td>0.0</td>\n",
       "    </tr>\n",
       "    <tr>\n",
       "      <th>3</th>\n",
       "      <td>4</td>\n",
       "      <td>@prabhav218 साले जेएनयू छाप कमिने लोग हिन्दुओं...</td>\n",
       "      <td>0.0</td>\n",
       "      <td>1.0</td>\n",
       "      <td>0.0</td>\n",
       "      <td>1.0</td>\n",
       "      <td>0.0</td>\n",
       "    </tr>\n",
       "    <tr>\n",
       "      <th>4</th>\n",
       "      <td>5</td>\n",
       "      <td>#unlock4guidelines - अनलॉक-4 के लिए गाइडलाइन्स...</td>\n",
       "      <td>0.0</td>\n",
       "      <td>0.0</td>\n",
       "      <td>1.0</td>\n",
       "      <td>0.0</td>\n",
       "      <td>0.0</td>\n",
       "    </tr>\n",
       "    <tr>\n",
       "      <th>...</th>\n",
       "      <td>...</td>\n",
       "      <td>...</td>\n",
       "      <td>...</td>\n",
       "      <td>...</td>\n",
       "      <td>...</td>\n",
       "      <td>...</td>\n",
       "      <td>...</td>\n",
       "    </tr>\n",
       "    <tr>\n",
       "      <th>5723</th>\n",
       "      <td>5724</td>\n",
       "      <td>उदितराज जी हिम्मत  जुटा कर उस नेता के लिए कुछ ...</td>\n",
       "      <td>1.0</td>\n",
       "      <td>0.0</td>\n",
       "      <td>0.0</td>\n",
       "      <td>0.0</td>\n",
       "      <td>0.0</td>\n",
       "    </tr>\n",
       "    <tr>\n",
       "      <th>5724</th>\n",
       "      <td>5725</td>\n",
       "      <td>उप्र: पीएम रिपोर्ट में खुलासा: हार्टअटैक से हु...</td>\n",
       "      <td>0.0</td>\n",
       "      <td>0.0</td>\n",
       "      <td>1.0</td>\n",
       "      <td>0.0</td>\n",
       "      <td>0.0</td>\n",
       "    </tr>\n",
       "    <tr>\n",
       "      <th>5725</th>\n",
       "      <td>5726</td>\n",
       "      <td>नौकरी गंवा चुके दोस्त की मदद: नगद के बजाए गिफ्...</td>\n",
       "      <td>0.0</td>\n",
       "      <td>0.0</td>\n",
       "      <td>1.0</td>\n",
       "      <td>0.0</td>\n",
       "      <td>0.0</td>\n",
       "    </tr>\n",
       "    <tr>\n",
       "      <th>5726</th>\n",
       "      <td>5727</td>\n",
       "      <td>बंगाल में हिन्दू मरे हैं इसलिए मुझे कोई फर्क न...</td>\n",
       "      <td>0.0</td>\n",
       "      <td>0.0</td>\n",
       "      <td>0.0</td>\n",
       "      <td>0.0</td>\n",
       "      <td>1.0</td>\n",
       "    </tr>\n",
       "    <tr>\n",
       "      <th>5727</th>\n",
       "      <td>5728</td>\n",
       "      <td>रक्षा मंत्री @rajnathsingh ने पूर्व राष्ट्रपति...</td>\n",
       "      <td>0.0</td>\n",
       "      <td>0.0</td>\n",
       "      <td>1.0</td>\n",
       "      <td>0.0</td>\n",
       "      <td>0.0</td>\n",
       "    </tr>\n",
       "  </tbody>\n",
       "</table>\n",
       "<p>5728 rows × 7 columns</p>\n",
       "</div>"
      ],
      "text/plain": [
       "        id                                               post  hate  \\\n",
       "0        1  मेरे देश के हिन्दु बहुत निराले है। कुछ तो पक्क...   1.0   \n",
       "1        2  सरकार हमेशा से किसानों की कमाई को बढ़ाने के लि...   0.0   \n",
       "2        3  सुशांत ने जो बिजनेस डील 9 जून को की थी, वो डील...   0.0   \n",
       "3        4  @prabhav218 साले जेएनयू छाप कमिने लोग हिन्दुओं...   0.0   \n",
       "4        5  #unlock4guidelines - अनलॉक-4 के लिए गाइडलाइन्स...   0.0   \n",
       "...    ...                                                ...   ...   \n",
       "5723  5724  उदितराज जी हिम्मत  जुटा कर उस नेता के लिए कुछ ...   1.0   \n",
       "5724  5725  उप्र: पीएम रिपोर्ट में खुलासा: हार्टअटैक से हु...   0.0   \n",
       "5725  5726  नौकरी गंवा चुके दोस्त की मदद: नगद के बजाए गिफ्...   0.0   \n",
       "5726  5727  बंगाल में हिन्दू मरे हैं इसलिए मुझे कोई फर्क न...   0.0   \n",
       "5727  5728  रक्षा मंत्री @rajnathsingh ने पूर्व राष्ट्रपति...   0.0   \n",
       "\n",
       "      offensive  non-hostile  defamation  fake  \n",
       "0           1.0          0.0         0.0   0.0  \n",
       "1           0.0          1.0         0.0   0.0  \n",
       "2           0.0          1.0         0.0   0.0  \n",
       "3           1.0          0.0         1.0   0.0  \n",
       "4           0.0          1.0         0.0   0.0  \n",
       "...         ...          ...         ...   ...  \n",
       "5723        0.0          0.0         0.0   0.0  \n",
       "5724        0.0          1.0         0.0   0.0  \n",
       "5725        0.0          1.0         0.0   0.0  \n",
       "5726        0.0          0.0         0.0   1.0  \n",
       "5727        0.0          1.0         0.0   0.0  \n",
       "\n",
       "[5728 rows x 7 columns]"
      ]
     },
     "execution_count": 50,
     "metadata": {},
     "output_type": "execute_result"
    }
   ],
   "source": [
    "df_new"
   ]
  },
  {
   "cell_type": "code",
   "execution_count": 51,
   "metadata": {},
   "outputs": [],
   "source": [
    "df_new.to_csv('train_final_with_one_hot.csv', index = False)\n",
    "val_new.to_csv('val_final_with_one_hot.csv', index = False)"
   ]
  },
  {
   "cell_type": "code",
   "execution_count": null,
   "metadata": {},
   "outputs": [],
   "source": []
  },
  {
   "cell_type": "code",
   "execution_count": null,
   "metadata": {},
   "outputs": [],
   "source": []
  },
  {
   "cell_type": "code",
   "execution_count": 9,
   "metadata": {},
   "outputs": [],
   "source": [
    "train = pd.read_csv(\"./train_final_with_one_hot.csv\")\n",
    "val = pd.read_csv(\"val_final_with_one_hot.csv\")"
   ]
  },
  {
   "cell_type": "code",
   "execution_count": null,
   "metadata": {},
   "outputs": [],
   "source": []
  },
  {
   "cell_type": "code",
   "execution_count": null,
   "metadata": {},
   "outputs": [],
   "source": []
  },
  {
   "cell_type": "code",
   "execution_count": 10,
   "metadata": {},
   "outputs": [
    {
     "ename": "RuntimeError",
     "evalue": "This event loop is already running",
     "output_type": "error",
     "traceback": [
      "\u001b[1;31m---------------------------------------------------------------------------\u001b[0m",
      "\u001b[1;31mRuntimeError\u001b[0m                              Traceback (most recent call last)",
      "\u001b[1;32m<ipython-input-10-ea8b68f1926d>\u001b[0m in \u001b[0;36m<module>\u001b[1;34m\u001b[0m\n\u001b[0;32m      1\u001b[0m \u001b[1;32mfrom\u001b[0m \u001b[0minltk\u001b[0m\u001b[1;33m.\u001b[0m\u001b[0minltk\u001b[0m \u001b[1;32mimport\u001b[0m \u001b[0msetup\u001b[0m\u001b[1;33m\u001b[0m\u001b[1;33m\u001b[0m\u001b[0m\n\u001b[1;32m----> 2\u001b[1;33m \u001b[0msetup\u001b[0m\u001b[1;33m(\u001b[0m\u001b[1;34m'hi'\u001b[0m\u001b[1;33m)\u001b[0m\u001b[1;33m\u001b[0m\u001b[1;33m\u001b[0m\u001b[0m\n\u001b[0m",
      "\u001b[1;32mF:\\Installed Software\\Anaconda3\\envs\\tf_gpu\\lib\\site-packages\\inltk\\inltk.py\u001b[0m in \u001b[0;36msetup\u001b[1;34m(language_code)\u001b[0m\n\u001b[0;32m     26\u001b[0m     \u001b[0mloop\u001b[0m \u001b[1;33m=\u001b[0m \u001b[0masyncio\u001b[0m\u001b[1;33m.\u001b[0m\u001b[0mget_event_loop\u001b[0m\u001b[1;33m(\u001b[0m\u001b[1;33m)\u001b[0m\u001b[1;33m\u001b[0m\u001b[1;33m\u001b[0m\u001b[0m\n\u001b[0;32m     27\u001b[0m     \u001b[0mtasks\u001b[0m \u001b[1;33m=\u001b[0m \u001b[1;33m[\u001b[0m\u001b[0masyncio\u001b[0m\u001b[1;33m.\u001b[0m\u001b[0mensure_future\u001b[0m\u001b[1;33m(\u001b[0m\u001b[0mdownload\u001b[0m\u001b[1;33m(\u001b[0m\u001b[0mlanguage_code\u001b[0m\u001b[1;33m)\u001b[0m\u001b[1;33m)\u001b[0m\u001b[1;33m]\u001b[0m\u001b[1;33m\u001b[0m\u001b[1;33m\u001b[0m\u001b[0m\n\u001b[1;32m---> 28\u001b[1;33m     \u001b[0mlearn\u001b[0m \u001b[1;33m=\u001b[0m \u001b[0mloop\u001b[0m\u001b[1;33m.\u001b[0m\u001b[0mrun_until_complete\u001b[0m\u001b[1;33m(\u001b[0m\u001b[0masyncio\u001b[0m\u001b[1;33m.\u001b[0m\u001b[0mgather\u001b[0m\u001b[1;33m(\u001b[0m\u001b[1;33m*\u001b[0m\u001b[0mtasks\u001b[0m\u001b[1;33m)\u001b[0m\u001b[1;33m)\u001b[0m\u001b[1;33m[\u001b[0m\u001b[1;36m0\u001b[0m\u001b[1;33m]\u001b[0m\u001b[1;33m\u001b[0m\u001b[1;33m\u001b[0m\u001b[0m\n\u001b[0m\u001b[0;32m     29\u001b[0m     \u001b[0mloop\u001b[0m\u001b[1;33m.\u001b[0m\u001b[0mclose\u001b[0m\u001b[1;33m(\u001b[0m\u001b[1;33m)\u001b[0m\u001b[1;33m\u001b[0m\u001b[1;33m\u001b[0m\u001b[0m\n\u001b[0;32m     30\u001b[0m \u001b[1;33m\u001b[0m\u001b[0m\n",
      "\u001b[1;32mF:\\Installed Software\\Anaconda3\\envs\\tf_gpu\\lib\\asyncio\\base_events.py\u001b[0m in \u001b[0;36mrun_until_complete\u001b[1;34m(self, future)\u001b[0m\n\u001b[0;32m    568\u001b[0m         \u001b[0mfuture\u001b[0m\u001b[1;33m.\u001b[0m\u001b[0madd_done_callback\u001b[0m\u001b[1;33m(\u001b[0m\u001b[0m_run_until_complete_cb\u001b[0m\u001b[1;33m)\u001b[0m\u001b[1;33m\u001b[0m\u001b[1;33m\u001b[0m\u001b[0m\n\u001b[0;32m    569\u001b[0m         \u001b[1;32mtry\u001b[0m\u001b[1;33m:\u001b[0m\u001b[1;33m\u001b[0m\u001b[1;33m\u001b[0m\u001b[0m\n\u001b[1;32m--> 570\u001b[1;33m             \u001b[0mself\u001b[0m\u001b[1;33m.\u001b[0m\u001b[0mrun_forever\u001b[0m\u001b[1;33m(\u001b[0m\u001b[1;33m)\u001b[0m\u001b[1;33m\u001b[0m\u001b[1;33m\u001b[0m\u001b[0m\n\u001b[0m\u001b[0;32m    571\u001b[0m         \u001b[1;32mexcept\u001b[0m\u001b[1;33m:\u001b[0m\u001b[1;33m\u001b[0m\u001b[1;33m\u001b[0m\u001b[0m\n\u001b[0;32m    572\u001b[0m             \u001b[1;32mif\u001b[0m \u001b[0mnew_task\u001b[0m \u001b[1;32mand\u001b[0m \u001b[0mfuture\u001b[0m\u001b[1;33m.\u001b[0m\u001b[0mdone\u001b[0m\u001b[1;33m(\u001b[0m\u001b[1;33m)\u001b[0m \u001b[1;32mand\u001b[0m \u001b[1;32mnot\u001b[0m \u001b[0mfuture\u001b[0m\u001b[1;33m.\u001b[0m\u001b[0mcancelled\u001b[0m\u001b[1;33m(\u001b[0m\u001b[1;33m)\u001b[0m\u001b[1;33m:\u001b[0m\u001b[1;33m\u001b[0m\u001b[1;33m\u001b[0m\u001b[0m\n",
      "\u001b[1;32mF:\\Installed Software\\Anaconda3\\envs\\tf_gpu\\lib\\asyncio\\base_events.py\u001b[0m in \u001b[0;36mrun_forever\u001b[1;34m(self)\u001b[0m\n\u001b[0;32m    523\u001b[0m         \u001b[0mself\u001b[0m\u001b[1;33m.\u001b[0m\u001b[0m_check_closed\u001b[0m\u001b[1;33m(\u001b[0m\u001b[1;33m)\u001b[0m\u001b[1;33m\u001b[0m\u001b[1;33m\u001b[0m\u001b[0m\n\u001b[0;32m    524\u001b[0m         \u001b[1;32mif\u001b[0m \u001b[0mself\u001b[0m\u001b[1;33m.\u001b[0m\u001b[0mis_running\u001b[0m\u001b[1;33m(\u001b[0m\u001b[1;33m)\u001b[0m\u001b[1;33m:\u001b[0m\u001b[1;33m\u001b[0m\u001b[1;33m\u001b[0m\u001b[0m\n\u001b[1;32m--> 525\u001b[1;33m             \u001b[1;32mraise\u001b[0m \u001b[0mRuntimeError\u001b[0m\u001b[1;33m(\u001b[0m\u001b[1;34m'This event loop is already running'\u001b[0m\u001b[1;33m)\u001b[0m\u001b[1;33m\u001b[0m\u001b[1;33m\u001b[0m\u001b[0m\n\u001b[0m\u001b[0;32m    526\u001b[0m         \u001b[1;32mif\u001b[0m \u001b[0mevents\u001b[0m\u001b[1;33m.\u001b[0m\u001b[0m_get_running_loop\u001b[0m\u001b[1;33m(\u001b[0m\u001b[1;33m)\u001b[0m \u001b[1;32mis\u001b[0m \u001b[1;32mnot\u001b[0m \u001b[1;32mNone\u001b[0m\u001b[1;33m:\u001b[0m\u001b[1;33m\u001b[0m\u001b[1;33m\u001b[0m\u001b[0m\n\u001b[0;32m    527\u001b[0m             raise RuntimeError(\n",
      "\u001b[1;31mRuntimeError\u001b[0m: This event loop is already running"
     ]
    }
   ],
   "source": [
    "from inltk.inltk import setup\n",
    "setup('hi')"
   ]
  },
  {
   "cell_type": "code",
   "execution_count": null,
   "metadata": {},
   "outputs": [],
   "source": [
    "from inltk.inltk import tokenize"
   ]
  },
  {
   "cell_type": "code",
   "execution_count": null,
   "metadata": {},
   "outputs": [
    {
     "name": "stdout",
     "output_type": "stream",
     "text": [
      "Done!\n"
     ]
    }
   ],
   "source": [
    "from prepro import hashtag_segment, text_preprocess, stem, lemm"
   ]
  },
  {
   "cell_type": "code",
   "execution_count": 31,
   "metadata": {},
   "outputs": [],
   "source": [
    "train['post'] = train['post'].apply(text_preprocess)"
   ]
  },
  {
   "cell_type": "code",
   "execution_count": 11,
   "metadata": {},
   "outputs": [
    {
     "data": {
      "text/plain": [
       "'मेरे देश के हिन्दु बहुत निराले है। कुछ तो पक्के राम भक्त है और कुछ बाबर के साले है \\n\\n🙏 जय श्री राम 🙏'"
      ]
     },
     "execution_count": 11,
     "metadata": {},
     "output_type": "execute_result"
    }
   ],
   "source": [
    "train.post[0]"
   ]
  },
  {
   "cell_type": "code",
   "execution_count": 13,
   "metadata": {},
   "outputs": [],
   "source": [
    "my_text = train.post[0]"
   ]
  },
  {
   "cell_type": "code",
   "execution_count": 18,
   "metadata": {},
   "outputs": [
    {
     "name": "stdout",
     "output_type": "stream",
     "text": [
      "मेरे देश के हिन्दु बहुत निराले है। कुछ तो पक्के राम भक्त है और कुछ बाबर के साले है \n",
      "\n",
      "🙏 जय श्री राम 🙏\n",
      "सरकार हमेशा से किसानों की कमाई को बढ़ाने के लिए नई-नई स्कीमें लाती रहती है, ताकि उन पर ज्यादा आर्थिक बोझ न पड़े.\n",
      "\n",
      "https://t.co/8iy2MJSBAs\n",
      "सुशांत ने जो बिजनेस डील 9 जून को की थी, वो डील दीपेश को सुशांत की हत्या के दिन ही क्यों याद आई? देखिए 'पूछता है भारत' अर्नब के साथ रिपब्लिक भारत पर #LIVE :  https://t.co/G945HvzM0Z https://t.co/KfH7xF1IdM\n",
      "@prabhav218 साले जेएनयू छाप कमिने लोग हिन्दुओं को यह कहते है की संविधान सबको बराबर अधिकार देता है। सच्चाई यह है कि यह बराबर अधिकार नहीं देता है।\n",
      "#unlock4guidelines - अनलॉक-4 के लिए गाइडलाइन्स जारी\n",
      "\n",
      "- 7 सितंबर से देशभर में मेट्रो सेवा शुरु होगी\n",
      "- 21 सितंबर के बाद रैलियों और बाकी फंक्शन में 100 लोगों को इजाजत\n",
      "- कंटेनमेंट जोन में कोई छूट नहीं\n",
      "- सिनेमाहॉल अभी बंद रहेंगे\n",
      "- 9 से 12वीं के छात्र 21 सितंबर के बाद स्कूल जा सकेंगे. https://t.co/4e6lysg0VR\n",
      "चीन ने UN में तर्क दिया की भारत का विपक्ष ही अजर‌ मसुद को आतंकी नहीं मानता तो हम कैसे माने। चुल्लू भर मूत्र में डूब मरो गद्दारों। अब यह भारत के लोगों को सोचना है कि वो विपक्ष को वोट क्यों करें…विक्रम शर्मा\n",
      "\n",
      "\n",
      "देश में #Corona के रिकॉर्ड मामले  \n",
      "#ZeeJankariOnCorona  \n",
      "@Sheerin_sherry https://t.co/V6UddREAtW\n",
      "#JEE Exam center से निकले #Students को सुन बाकी छात्रों के साथ Parents के चेहरे पर मुस्कान आ जाएगी\n",
      "https://t.co/TQ7nfIv0I0 https://t.co/gGCDYYEz6E\n",
      "#AkshayKumar जल्द ही बेयर ग्रिल्स के शो 'इंटू द वाइल्ड विद बेयर ग्रिल्स' में नजर आने वाले हैं। \n",
      "\n",
      "https://t.co/wGp2WS0wuM\n",
      "#जीवनसंवाद: हम संघर्ष करना चाहते हैं, क्योंकि सामने संघर्ष की मिसाल रखना चाहते हैं. नए शहर में इतना कुछ नया होगा कि हमें अपनी जड़ें जमाने में बरसों बीत जाएंगे. हम कर्ज में जरूर हैं, लेकिन हम हारना नहीं चाहते. वह भी बिना लड़े.\n",
      "#JeevanSamvad\n",
      "@DayashankarMi\n",
      "https://t.co/nd7troF0JF https://t.co/CmAzq2Mj8S\n",
      "RT @_Pb_swain_: मोदीजी और जब सारा देश सेना के साथ खडी है,\n",
      "\n",
      "पर दो सयाने विदेश मे पडे है?🤔 इसलिए बोलते हैं विदेशी मां का बेटा कभी देशभक्त न…\n",
      "RT @ShilpiSinghINC: 48000 घरों को तोड़ने का आदेश आया है, किसी को कोई फर्क़ नहीं पड़ता!\n",
      "\n",
      "अमीरों के 5 में से 1 मकान के किसी अवैध हिस्से भी एक…\n",
      "जब बीजेपी प्रवक्ता @sambitswaraj ने कांग्रेस प्रवक्ता @SupriyaShrinate को कहा हेड मिस्ट्रेस तो सुनिए कांग्रेस प्रवक्ता ने क्या जवाब दिया\n",
      "#हल्ला_बोल @anjanaomkashyap #RE https://t.co/WWDYuWikCE\n",
      "बियर ग्रिल्स के साथ खतरनाक जंगलों में दिखेंगे अक्षय कुमार, जारी किया वीडियो\n",
      "\n",
      "@akshaykumar\n",
      "@BearGrylls\n",
      "\n",
      "https://t.co/VPLwEQsqAv\n",
      "आजम खान की बेटी पर ससूर ने किया रेप।\n",
      "अब quatation ये उठता है कि होने वाला बच्चा आजम खान के रियल दमाद को क्या बोलेगा।\n",
      "\n",
      "कांग्रेस मूल की कंगना रनौत बिहार चुनाव में भाजपा का प्रचार करेंगी! #NATIONALNEWS\n",
      "होम आइसोलेशन में रहने वाले लोग थर्मामीटर तथा पल्स ऑक्सीमीटर साथ रखें। यदि किसी को खांसी या बुखार आये अथवा सांस फूले तो तत्काल हेल्पलाइन नं. 18001805145 अथवा @CMHelpline1076 पर सम्पर्क करे: ACS, चिकित्सा एवं स्वास्थ्य, श्री अमित मोहन प्रसाद जी\n",
      "\n",
      "@ShishirGoUP\n",
      "पूर्व प्रधानमंत्री डॉ. मनमोहन सिंह ने 10 राजाजी मार्ग पहुंचकर पूर्व राष्ट्रपति प्रणव मुखर्जी को श्रद्धांजलि दी\n",
      "\n",
      "#PranabMukherjee https://t.co/egBXvOgC1w\n",
      "IPL छोड़ेंगे @harbhajan_singh ? @ChennaiIPL अधिकारी ने दिया अपडेट\n",
      "\n",
      "https://t.co/9zFnEXdtAk\n",
      "\n",
      "#HarbhajanSingh #IPL2020 https://t.co/z9Dpaffw3I\n",
      "#Saharanpur चेकिंग के बहाने उगाही करने वाले गिरफ्तार, 2 शातिर बदमाशों को पुलिस ने किया गिरफ्तार, स्कूटी, 2 तमंचे, मोबाइल बरामद किया, देहात कोतवाली पुलिस ने किया गिरफ्तार। @saharanpurpol @digsaharanpur @Uppolice #policemedianews\n",
      "जापान के नोबल पुरस्कार जीतने वाले ओर 4 साल तक चीन में काम करने वाले प्रोफेसर #टासुकू_होंजो का दावा, कोरोना प्राकृतिक नही कृत्रिम वायरस है जो चीन ने बनाया है।\n",
      "दिल्ली में हिंदुओं और सिक्खों की सामूहिक हत्याएं करने के लिए आतंकवादी जेहादी घी के डिब्बे में अवैध हथियार सप्लाई करते हुए धर दबोचे गए।\n",
      "कुत्ते में भी एकता होती है विचारों में विरोध होती लेकिन फिर भी उसे में एकता होती है पत्रकार में नहीं आज तक न्यूज़ चैनल पर आशुतोष सर को गौरव भाटिया बोला दोनों कान पर थप्पड़ मारूंगा वहां बैठा पत्रकार रोहित सरदाना सुनती रही मुझे बहुत दुख  हुई\n",
      "प्रणब मुखर्जी ने 37 प्रार्थियों से जुड़ी 28 दया याचिकाओं को खारिज कर दिया. प्रणब से पहले राष्ट्रपति रहीं प्रतिभा पाटिल ने सबसे ज्यादा 30 लोगों को फांसी के फंदे से बचाया था. प्रणब ने सिर्फ सात की फांसी की सजा माफ की.\n",
      "https://t.co/1G44U1OR4R\n",
      "लद्दाख के करीब चीन ने फिर से तैनात किए अपने J-20 लड़ाकू विमान, लगातार भर रहे हैं उड़ान-\n",
      "#IndiaChinaFaceOff \n",
      "\n",
      "https://t.co/2VfWAZenTi\n",
      "@liHusin1 @KanganaTeam हा बे कटे लैंड की पैदाइस हलाला की ओलाद तुम्हे ये नही मालूम तेरा अबु कौन है और तेरी खाला जान चुदाईखाना को नहीं पता कि तेरा अबु मौलवी साहब है, चचा है ,भाई जान है या पड़ोस वाला अब्दुल,फारुख, रहिस चचा भी तेरे अबु जान हो सकते है।साला सुवर तेरी ...\n",
      "गृह मंत्री अमित शाह को बोन कैंसर से जूझ रहे हैं\n",
      "ट्विटर पे बहुत से चूतिये मिलेंगे, जो साले हिंदुओं का विरोध करते हुए मिल जाएंगे... उनकी खुद की फेक id होती है, \n",
      "अब जैसे इसी चमन चूतिये को देखिए, पिस्टल पांडेय नाम रखे हैं और हिंदुओं के विरोध में लगे हुए है।\n",
      "किसी का भाड़े का टट्टू होगा, विरोध करने के 100, 50 पा जा रहा होगा बस तभी। https://t.co/cwFuCzYP4O\n",
      "@SalmanNizami_ राहुल गांधी - Maa मैं अगले 4 साल क्या करूंगा 🙃\n",
      "\n",
      "सोनिया गांधी - बेटा TV रिचार्ज कर दिया है बैठकर छोटा भीम देख.😂😂😂\n",
      "CCTV में रिकॉर्ड हुई चोर की चोरी, ढेर सारे सोने के सिक्के बरामद किए गए  \n",
      "@capt_ivane @DelhiPolice \n",
      "#Delhi \n",
      "https://t.co/CWo9EqedoG\n",
      "टीवी पर आने से पहले इतनी तैयारी करता है ये गरीब आदमी\n",
      "अब यह असंभव ही लग रहा है कि कोई ऐसा बंदा जो रिटायर हो चुका है और अब कोई क्रिकेट नहीं खेलेगा, वो CSK के लिए वापस आएगा. शायद, हो सकता है कि वह ऑक्शन में दोबारा जाएं और कोई दूसरी टीम उन्हें खरीद ले'\n",
      "\n",
      "#CSK #SureshRaina\n",
      "https://t.co/1PZ3fkb8Cj\n"
     ]
    }
   ],
   "source": [
    "for i,a in enumerate(train.post):\n",
    "    print(a)\n",
    "    if(i>30):\n",
    "        break"
   ]
  },
  {
   "cell_type": "code",
   "execution_count": 21,
   "metadata": {},
   "outputs": [],
   "source": [
    "\n"
   ]
  },
  {
   "cell_type": "code",
   "execution_count": null,
   "metadata": {},
   "outputs": [],
   "source": []
  },
  {
   "cell_type": "code",
   "execution_count": null,
   "metadata": {},
   "outputs": [],
   "source": []
  },
  {
   "cell_type": "code",
   "execution_count": 16,
   "metadata": {},
   "outputs": [],
   "source": [
    "from emot.emo_unicode import UNICODE_EMO, EMOTICONS\n",
    "def convert_emojis(text):\n",
    "    for emot in UNICODE_EMO:\n",
    "        text = text.replace(emot, \" \".join(UNICODE_EMO[emot].replace(\",\",\"\").replace(\":\",\"\").replace(\"_\",\" \").split()))\n",
    "    return text"
   ]
  },
  {
   "cell_type": "code",
   "execution_count": 17,
   "metadata": {},
   "outputs": [
    {
     "data": {
      "text/plain": [
       "'मेरे देश के हिन्दु बहुत निराले है। कुछ तो पक्के राम भक्त है और कुछ बाबर के साले है \\n\\nfolded hands जय श्री राम folded hands'"
      ]
     },
     "execution_count": 17,
     "metadata": {},
     "output_type": "execute_result"
    }
   ],
   "source": [
    "convert_emojis(my_text)"
   ]
  },
  {
   "cell_type": "code",
   "execution_count": 19,
   "metadata": {},
   "outputs": [],
   "source": [
    "train['post'] = train['post'].apply(convert_emojis)"
   ]
  },
  {
   "cell_type": "code",
   "execution_count": 20,
   "metadata": {},
   "outputs": [
    {
     "name": "stdout",
     "output_type": "stream",
     "text": [
      "मेरे देश के हिन्दु बहुत निराले है। कुछ तो पक्के राम भक्त है और कुछ बाबर के साले है \n",
      "\n",
      "folded hands जय श्री राम folded hands\n",
      "सरकार हमेशा से किसानों की कमाई को बढ़ाने के लिए नई-नई स्कीमें लाती रहती है, ताकि उन पर ज्यादा आर्थिक बोझ न पड़े.\n",
      "\n",
      "https://t.co/8iy2MJSBAs\n",
      "सुशांत ने जो बिजनेस डील 9 जून को की थी, वो डील दीपेश को सुशांत की हत्या के दिन ही क्यों याद आई? देखिए 'पूछता है भारत' अर्नब के साथ रिपब्लिक भारत पर #LIVE :  https://t.co/G945HvzM0Z https://t.co/KfH7xF1IdM\n",
      "@prabhav218 साले जेएनयू छाप कमिने लोग हिन्दुओं को यह कहते है की संविधान सबको बराबर अधिकार देता है। सच्चाई यह है कि यह बराबर अधिकार नहीं देता है।\n",
      "#unlock4guidelines - अनलॉक-4 के लिए गाइडलाइन्स जारी\n",
      "\n",
      "- 7 सितंबर से देशभर में मेट्रो सेवा शुरु होगी\n",
      "- 21 सितंबर के बाद रैलियों और बाकी फंक्शन में 100 लोगों को इजाजत\n",
      "- कंटेनमेंट जोन में कोई छूट नहीं\n",
      "- सिनेमाहॉल अभी बंद रहेंगे\n",
      "- 9 से 12वीं के छात्र 21 सितंबर के बाद स्कूल जा सकेंगे. https://t.co/4e6lysg0VR\n",
      "चीन ने UN में तर्क दिया की भारत का विपक्ष ही अजर‌ मसुद को आतंकी नहीं मानता तो हम कैसे माने। चुल्लू भर मूत्र में डूब मरो गद्दारों। अब यह भारत के लोगों को सोचना है कि वो विपक्ष को वोट क्यों करें…विक्रम शर्मा\n",
      "\n",
      "\n",
      "देश में #Corona के रिकॉर्ड मामले  \n",
      "#ZeeJankariOnCorona  \n",
      "@Sheerin_sherry https://t.co/V6UddREAtW\n",
      "#JEE Exam center से निकले #Students को सुन बाकी छात्रों के साथ Parents के चेहरे पर मुस्कान आ जाएगी\n",
      "https://t.co/TQ7nfIv0I0 https://t.co/gGCDYYEz6E\n",
      "#AkshayKumar जल्द ही बेयर ग्रिल्स के शो 'इंटू द वाइल्ड विद बेयर ग्रिल्स' में नजर आने वाले हैं। \n",
      "\n",
      "https://t.co/wGp2WS0wuM\n",
      "#जीवनसंवाद: हम संघर्ष करना चाहते हैं, क्योंकि सामने संघर्ष की मिसाल रखना चाहते हैं. नए शहर में इतना कुछ नया होगा कि हमें अपनी जड़ें जमाने में बरसों बीत जाएंगे. हम कर्ज में जरूर हैं, लेकिन हम हारना नहीं चाहते. वह भी बिना लड़े.\n",
      "#JeevanSamvad\n",
      "@DayashankarMi\n",
      "https://t.co/nd7troF0JF https://t.co/CmAzq2Mj8S\n",
      "RT @_Pb_swain_: मोदीजी और जब सारा देश सेना के साथ खडी है,\n",
      "\n",
      "पर दो सयाने विदेश मे पडे है?thinking face इसलिए बोलते हैं विदेशी मां का बेटा कभी देशभक्त न…\n",
      "RT @ShilpiSinghINC: 48000 घरों को तोड़ने का आदेश आया है, किसी को कोई फर्क़ नहीं पड़ता!\n",
      "\n",
      "अमीरों के 5 में से 1 मकान के किसी अवैध हिस्से भी एक…\n",
      "जब बीजेपी प्रवक्ता @sambitswaraj ने कांग्रेस प्रवक्ता @SupriyaShrinate को कहा हेड मिस्ट्रेस तो सुनिए कांग्रेस प्रवक्ता ने क्या जवाब दिया\n",
      "#हल्ला_बोल @anjanaomkashyap #RE https://t.co/WWDYuWikCE\n",
      "बियर ग्रिल्स के साथ खतरनाक जंगलों में दिखेंगे अक्षय कुमार, जारी किया वीडियो\n",
      "\n",
      "@akshaykumar\n",
      "@BearGrylls\n",
      "\n",
      "https://t.co/VPLwEQsqAv\n",
      "आजम खान की बेटी पर ससूर ने किया रेप।\n",
      "अब quatation ये उठता है कि होने वाला बच्चा आजम खान के रियल दमाद को क्या बोलेगा।\n",
      "\n",
      "कांग्रेस मूल की कंगना रनौत बिहार चुनाव में भाजपा का प्रचार करेंगी! #NATIONALNEWS\n",
      "होम आइसोलेशन में रहने वाले लोग थर्मामीटर तथा पल्स ऑक्सीमीटर साथ रखें। यदि किसी को खांसी या बुखार आये अथवा सांस फूले तो तत्काल हेल्पलाइन नं. 18001805145 अथवा @CMHelpline1076 पर सम्पर्क करे: ACS, चिकित्सा एवं स्वास्थ्य, श्री अमित मोहन प्रसाद जी\n",
      "\n",
      "@ShishirGoUP\n",
      "पूर्व प्रधानमंत्री डॉ. मनमोहन सिंह ने 10 राजाजी मार्ग पहुंचकर पूर्व राष्ट्रपति प्रणव मुखर्जी को श्रद्धांजलि दी\n",
      "\n",
      "#PranabMukherjee https://t.co/egBXvOgC1w\n",
      "IPL छोड़ेंगे @harbhajan_singh ? @ChennaiIPL अधिकारी ने दिया अपडेट\n",
      "\n",
      "https://t.co/9zFnEXdtAk\n",
      "\n",
      "#HarbhajanSingh #IPL2020 https://t.co/z9Dpaffw3I\n",
      "#Saharanpur चेकिंग के बहाने उगाही करने वाले गिरफ्तार, 2 शातिर बदमाशों को पुलिस ने किया गिरफ्तार, स्कूटी, 2 तमंचे, मोबाइल बरामद किया, देहात कोतवाली पुलिस ने किया गिरफ्तार। @saharanpurpol @digsaharanpur @Uppolice #policemedianews\n",
      "जापान के नोबल पुरस्कार जीतने वाले ओर 4 साल तक चीन में काम करने वाले प्रोफेसर #टासुकू_होंजो का दावा, कोरोना प्राकृतिक नही कृत्रिम वायरस है जो चीन ने बनाया है।\n",
      "दिल्ली में हिंदुओं और सिक्खों की सामूहिक हत्याएं करने के लिए आतंकवादी जेहादी घी के डिब्बे में अवैध हथियार सप्लाई करते हुए धर दबोचे गए।\n",
      "कुत्ते में भी एकता होती है विचारों में विरोध होती लेकिन फिर भी उसे में एकता होती है पत्रकार में नहीं आज तक न्यूज़ चैनल पर आशुतोष सर को गौरव भाटिया बोला दोनों कान पर थप्पड़ मारूंगा वहां बैठा पत्रकार रोहित सरदाना सुनती रही मुझे बहुत दुख  हुई\n",
      "प्रणब मुखर्जी ने 37 प्रार्थियों से जुड़ी 28 दया याचिकाओं को खारिज कर दिया. प्रणब से पहले राष्ट्रपति रहीं प्रतिभा पाटिल ने सबसे ज्यादा 30 लोगों को फांसी के फंदे से बचाया था. प्रणब ने सिर्फ सात की फांसी की सजा माफ की.\n",
      "https://t.co/1G44U1OR4R\n",
      "लद्दाख के करीब चीन ने फिर से तैनात किए अपने J-20 लड़ाकू विमान, लगातार भर रहे हैं उड़ान-\n",
      "#IndiaChinaFaceOff \n",
      "\n",
      "https://t.co/2VfWAZenTi\n",
      "@liHusin1 @KanganaTeam हा बे कटे लैंड की पैदाइस हलाला की ओलाद तुम्हे ये नही मालूम तेरा अबु कौन है और तेरी खाला जान चुदाईखाना को नहीं पता कि तेरा अबु मौलवी साहब है, चचा है ,भाई जान है या पड़ोस वाला अब्दुल,फारुख, रहिस चचा भी तेरे अबु जान हो सकते है।साला सुवर तेरी ...\n",
      "गृह मंत्री अमित शाह को बोन कैंसर से जूझ रहे हैं\n",
      "ट्विटर पे बहुत से चूतिये मिलेंगे, जो साले हिंदुओं का विरोध करते हुए मिल जाएंगे... उनकी खुद की फेक id होती है, \n",
      "अब जैसे इसी चमन चूतिये को देखिए, पिस्टल पांडेय नाम रखे हैं और हिंदुओं के विरोध में लगे हुए है।\n",
      "किसी का भाड़े का टट्टू होगा, विरोध करने के 100, 50 पा जा रहा होगा बस तभी। https://t.co/cwFuCzYP4O\n",
      "@SalmanNizami_ राहुल गांधी - Maa मैं अगले 4 साल क्या करूंगा upside-down face\n",
      "\n",
      "सोनिया गांधी - बेटा TV रिचार्ज कर दिया है बैठकर छोटा भीम देख.face with tears of joyface with tears of joyface with tears of joy\n",
      "CCTV में रिकॉर्ड हुई चोर की चोरी, ढेर सारे सोने के सिक्के बरामद किए गए  \n",
      "@capt_ivane @DelhiPolice \n",
      "#Delhi \n",
      "https://t.co/CWo9EqedoG\n",
      "टीवी पर आने से पहले इतनी तैयारी करता है ये गरीब आदमी\n",
      "अब यह असंभव ही लग रहा है कि कोई ऐसा बंदा जो रिटायर हो चुका है और अब कोई क्रिकेट नहीं खेलेगा, वो CSK के लिए वापस आएगा. शायद, हो सकता है कि वह ऑक्शन में दोबारा जाएं और कोई दूसरी टीम उन्हें खरीद ले'\n",
      "\n",
      "#CSK #SureshRaina\n",
      "https://t.co/1PZ3fkb8Cj\n"
     ]
    }
   ],
   "source": [
    "for i,a in enumerate(train.post):\n",
    "    print(a)\n",
    "    if(i>30):\n",
    "        break"
   ]
  },
  {
   "cell_type": "code",
   "execution_count": null,
   "metadata": {},
   "outputs": [],
   "source": []
  }
 ],
 "metadata": {
  "kernelspec": {
   "display_name": "Python (tensorflow GPU)",
   "language": "python",
   "name": "tf_gpu"
  },
  "language_info": {
   "codemirror_mode": {
    "name": "ipython",
    "version": 3
   },
   "file_extension": ".py",
   "mimetype": "text/x-python",
   "name": "python",
   "nbconvert_exporter": "python",
   "pygments_lexer": "ipython3",
   "version": "3.7.6"
  }
 },
 "nbformat": 4,
 "nbformat_minor": 4
}
